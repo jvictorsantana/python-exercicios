{
  "nbformat": 4,
  "nbformat_minor": 0,
  "metadata": {
    "colab": {
      "provenance": [],
      "authorship_tag": "ABX9TyPI1fOeB5aRJIzGGhFAQz/u",
      "include_colab_link": true
    },
    "kernelspec": {
      "name": "python3",
      "display_name": "Python 3"
    },
    "language_info": {
      "name": "python"
    }
  },
  "cells": [
    {
      "cell_type": "markdown",
      "metadata": {
        "id": "view-in-github",
        "colab_type": "text"
      },
      "source": [
        "<a href=\"https://colab.research.google.com/github/jvictorsantana/python-exercicios/blob/main/WebScrapping_Mercado_Livre.ipynb\" target=\"_parent\"><img src=\"https://colab.research.google.com/assets/colab-badge.svg\" alt=\"Open In Colab\"/></a>"
      ]
    },
    {
      "cell_type": "code",
      "execution_count": 2,
      "metadata": {
        "id": "GlLd4vGZkZXg"
      },
      "outputs": [],
      "source": [
        "from bs4 import BeautifulSoup\n",
        "import requests\n",
        "import pandas as pd\n"
      ]
    },
    {
      "cell_type": "code",
      "source": [
        "item = input(\"Qual o nome do item? \")\n",
        "item_tratado = item.replace(\" \", \"-\")\n",
        "url_site = f'https://lista.mercadolivre.com.br/{item_tratado}'\n",
        "resposta = requests.get(url_site)\n",
        "site_configurado = BeautifulSoup(resposta.text, 'html.parser')\n",
        "dados = site_configurado.find_all('div', attrs={'class':'ui-search-item__group ui-search-item__group--title'})\n",
        "produto = []\n",
        "preco = []\n",
        "for x in dados:\n",
        "  nome = x.find_all('h2')[0].text\n",
        "  produto.append(nome)\n",
        "# print(produto)\n",
        "for p in site_configurado.find_all('span', attrs={'class':'andes-money-amount ui-search-price__part ui-search-price__part--medium andes-money-amount--cents-superscript'}):\n",
        "  preco.append(p.text)\n",
        "loja = {\n",
        "    'Produto': produto,\n",
        "    'Preço': preco,\n",
        "\n",
        "\n",
        "}\n",
        "df = pd.DataFrame(loja)\n",
        "df\n"
      ],
      "metadata": {
        "id": "J6fHSDJ8kqtC"
      },
      "execution_count": null,
      "outputs": []
    }
  ]
}