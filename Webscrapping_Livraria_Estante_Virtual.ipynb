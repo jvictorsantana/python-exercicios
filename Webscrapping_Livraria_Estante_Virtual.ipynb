{
  "nbformat": 4,
  "nbformat_minor": 0,
  "metadata": {
    "colab": {
      "provenance": [],
      "authorship_tag": "ABX9TyNty92A2u3+Tqnaj69CFihZ",
      "include_colab_link": true
    },
    "kernelspec": {
      "name": "python3",
      "display_name": "Python 3"
    },
    "language_info": {
      "name": "python"
    }
  },
  "cells": [
    {
      "cell_type": "markdown",
      "metadata": {
        "id": "view-in-github",
        "colab_type": "text"
      },
      "source": [
        "<a href=\"https://colab.research.google.com/github/jvictorsantana/python-exercicios/blob/main/Webscrapping_Livraria_Estante_Virtual.ipynb\" target=\"_parent\"><img src=\"https://colab.research.google.com/assets/colab-badge.svg\" alt=\"Open In Colab\"/></a>"
      ]
    },
    {
      "cell_type": "code",
      "execution_count": 119,
      "metadata": {
        "id": "hRNSmEogugjR"
      },
      "outputs": [],
      "source": [
        "import requests\n",
        "from bs4 import BeautifulSoup\n",
        "import pandas as pd"
      ]
    },
    {
      "cell_type": "code",
      "source": [
        "from os import replace\n",
        "url = 'https://www.estantevirtual.com.br/livros-mais-vendidos'\n",
        "headers = {'User-Agent': 'Mozilla/5.0 (Windows NT 10.0; Win64; x64) AppleWebKit/537.36 (KHTML, like Gecko) Chrome/126.0.0.0 Safari/537.36'}\n",
        "resposta = requests.get(url, headers = headers)\n",
        "soup = BeautifulSoup(resposta.text, 'html.parser')\n",
        "livro = soup.find_all('h2')\n",
        "livros = []\n",
        "autores = []\n",
        "preco = []\n",
        "for l in livro:\n",
        "  livros.append(l['data-enhanced-ecommerce-impression-name'])\n",
        "for x in soup.find_all('h3'):\n",
        "  autores.append(x['data-enhanced-ecommerce-impression-brand'])\n",
        "for p in soup.find_all('span', attrs = {'class' : 'preco'}):\n",
        "  preco.append(p.text.strip())\n",
        "biblioteca = {\n",
        "    'Livro': livros,\n",
        "    'Autor': autores,\n",
        "    'Preço': preco\n",
        "}\n",
        "df = pd.DataFrame(biblioteca)\n",
        "df\n",
        "\n",
        "\n",
        "\n",
        "\n"
      ],
      "metadata": {
        "id": "XAMAIPgFvsjv"
      },
      "execution_count": null,
      "outputs": []
    },
    {
      "cell_type": "code",
      "source": [],
      "metadata": {
        "id": "F_yLEEOKvspW"
      },
      "execution_count": null,
      "outputs": []
    },
    {
      "cell_type": "code",
      "source": [],
      "metadata": {
        "id": "QevqGGpdvsrn"
      },
      "execution_count": null,
      "outputs": []
    },
    {
      "cell_type": "code",
      "source": [],
      "metadata": {
        "id": "leju_TPKvstk"
      },
      "execution_count": null,
      "outputs": []
    },
    {
      "cell_type": "code",
      "source": [],
      "metadata": {
        "id": "l-Jkfpx4vsvj"
      },
      "execution_count": null,
      "outputs": []
    }
  ]
}